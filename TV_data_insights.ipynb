{
 "cells": [
  {
   "cell_type": "code",
   "execution_count": 2,
   "id": "d62df2dc",
   "metadata": {},
   "outputs": [],
   "source": [
    "# Import libraries\n",
    "import pandas as pd\n",
    "from matplotlib import pyplot as plt"
   ]
  },
  {
   "cell_type": "markdown",
   "id": "6ef7773d",
   "metadata": {},
   "source": [
    "## QUESTION 01"
   ]
  },
  {
   "cell_type": "code",
   "execution_count": 24,
   "id": "fe4c1dc1",
   "metadata": {},
   "outputs": [],
   "source": [
    "#Has TV viewership increased over time? Save your answer as a boolean variable named viewership_increased\n",
    "tv = pd.read_csv(\"datasets/tv.csv\")\n",
    "tv =tv.sort_values(by='super_bowl')\n"
   ]
  },
  {
   "cell_type": "code",
   "execution_count": 25,
   "id": "6df9b06e",
   "metadata": {},
   "outputs": [
    {
     "name": "stdout",
     "output_type": "stream",
     "text": [
      "Viewership increased: 26750000\n",
      "Viewership increased: 103390000\n",
      "Viewership increased: True\n"
     ]
    }
   ],
   "source": [
    "\n",
    "# Compare first and last average viewers\n",
    "first = tv['avg_us_viewers'].iloc[0]\n",
    "last = tv['avg_us_viewers'].iloc[-1]\n",
    "print(\"Viewership increased:\", first)\n",
    "print(\"Viewership increased:\", last)\n",
    "\n",
    "viewership_increased = last > first\n",
    "print(\"Viewership increased:\", viewership_increased)\n"
   ]
  },
  {
   "cell_type": "markdown",
   "id": "3fbe0bba",
   "metadata": {},
   "source": [
    "## QUESTION 02"
   ]
  },
  {
   "cell_type": "code",
   "execution_count": 38,
   "id": "beff743a",
   "metadata": {},
   "outputs": [
    {
     "name": "stdout",
     "output_type": "stream",
     "text": [
      "1\n"
     ]
    }
   ],
   "source": [
    "#How many matches finished with a point difference greater than 40? Save your answer as an integer named difference.\n",
    "super_bowls = pd.read_csv(\"datasets/super_bowls.csv\")\n",
    "super_bowls.head() \n",
    "difference = (super_bowls['difference_pts'] > 40).sum()\n",
    "print(difference)"
   ]
  },
  {
   "cell_type": "markdown",
   "id": "65f66b97",
   "metadata": {},
   "source": [
    "## QUESTION 03"
   ]
  },
  {
   "cell_type": "code",
   "execution_count": 39,
   "id": "c94a9872",
   "metadata": {},
   "outputs": [
    {
     "data": {
      "text/html": [
       "<div>\n",
       "<style scoped>\n",
       "    .dataframe tbody tr th:only-of-type {\n",
       "        vertical-align: middle;\n",
       "    }\n",
       "\n",
       "    .dataframe tbody tr th {\n",
       "        vertical-align: top;\n",
       "    }\n",
       "\n",
       "    .dataframe thead th {\n",
       "        text-align: right;\n",
       "    }\n",
       "</style>\n",
       "<table border=\"1\" class=\"dataframe\">\n",
       "  <thead>\n",
       "    <tr style=\"text-align: right;\">\n",
       "      <th></th>\n",
       "      <th>super_bowl</th>\n",
       "      <th>musician</th>\n",
       "      <th>num_songs</th>\n",
       "    </tr>\n",
       "  </thead>\n",
       "  <tbody>\n",
       "    <tr>\n",
       "      <th>0</th>\n",
       "      <td>52</td>\n",
       "      <td>Justin Timberlake</td>\n",
       "      <td>11.0</td>\n",
       "    </tr>\n",
       "    <tr>\n",
       "      <th>1</th>\n",
       "      <td>52</td>\n",
       "      <td>University of Minnesota Marching Band</td>\n",
       "      <td>1.0</td>\n",
       "    </tr>\n",
       "    <tr>\n",
       "      <th>2</th>\n",
       "      <td>51</td>\n",
       "      <td>Lady Gaga</td>\n",
       "      <td>7.0</td>\n",
       "    </tr>\n",
       "    <tr>\n",
       "      <th>3</th>\n",
       "      <td>50</td>\n",
       "      <td>Coldplay</td>\n",
       "      <td>6.0</td>\n",
       "    </tr>\n",
       "    <tr>\n",
       "      <th>4</th>\n",
       "      <td>50</td>\n",
       "      <td>Beyoncé</td>\n",
       "      <td>3.0</td>\n",
       "    </tr>\n",
       "  </tbody>\n",
       "</table>\n",
       "</div>"
      ],
      "text/plain": [
       "   super_bowl                               musician  num_songs\n",
       "0          52                      Justin Timberlake       11.0\n",
       "1          52  University of Minnesota Marching Band        1.0\n",
       "2          51                              Lady Gaga        7.0\n",
       "3          50                               Coldplay        6.0\n",
       "4          50                                Beyoncé        3.0"
      ]
     },
     "execution_count": 39,
     "metadata": {},
     "output_type": "execute_result"
    }
   ],
   "source": [
    "#Who performed the most songs in Super Bowl halftime shows? Save your answer as a string named most_songs.\n",
    "halftime_musicians = pd.read_csv(\"datasets/halftime_musicians.csv\")\n",
    "halftime_musicians.head()"
   ]
  },
  {
   "cell_type": "code",
   "execution_count": 40,
   "id": "ece108d0",
   "metadata": {},
   "outputs": [
    {
     "name": "stdout",
     "output_type": "stream",
     "text": [
      "Musician with the most songs: Justin Timberlake\n"
     ]
    }
   ],
   "source": [
    "# Find the musician with the highest number of songs\n",
    "most_row = halftime_musicians.loc[halftime_musicians['num_songs'].idxmax()]\n",
    "most_songs = most_row['musician']\n",
    "\n",
    "print(\"Musician with the most songs:\", most_songs)"
   ]
  }
 ],
 "metadata": {
  "kernelspec": {
   "display_name": "TV_Data_Insights",
   "language": "python",
   "name": "python3"
  },
  "language_info": {
   "codemirror_mode": {
    "name": "ipython",
    "version": 3
   },
   "file_extension": ".py",
   "mimetype": "text/x-python",
   "name": "python",
   "nbconvert_exporter": "python",
   "pygments_lexer": "ipython3",
   "version": "3.11.9"
  }
 },
 "nbformat": 4,
 "nbformat_minor": 5
}
